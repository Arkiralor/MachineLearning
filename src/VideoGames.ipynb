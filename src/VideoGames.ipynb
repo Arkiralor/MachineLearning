{
 "cells": [
  {
   "cell_type": "code",
   "execution_count": null,
   "metadata": {},
   "outputs": [],
   "source": [
    "## Import Block\n",
    "from os import path, getcwd\n",
    "import numpy as np\n",
    "import pandas as pd\n",
    "from sklearn.tree import DecisionTreeClassifier\n",
    "from sklearn.model_selection import train_test_split\n",
    "from sklearn.metrics import accuracy_score\n",
    "from sklearn.preprocessing import OneHotEncoder\n",
    "import json"
   ]
  },
  {
   "cell_type": "code",
   "execution_count": null,
   "metadata": {},
   "outputs": [],
   "source": [
    "## Path to dataset\n",
    "dataset = path.join(getcwd(), \"..\", \"data\", \"vgsales_cleaned.csv\")\n",
    "\n",
    "## Read data\n",
    "df = pd.read_csv(dataset)\n"
   ]
  },
  {
   "cell_type": "code",
   "execution_count": null,
   "metadata": {},
   "outputs": [],
   "source": [
    "df.describe()\n",
    "df = df.drop(columns=['Rank', 'Name'], axis=1)\n",
    "df = df.dropna()\n",
    "df.head(7)"
   ]
  },
  {
   "cell_type": "code",
   "execution_count": null,
   "metadata": {},
   "outputs": [],
   "source": [
    "# genre = {i: j for i, j in enumerate(df['Genre'].unique().tolist())}\n",
    "# platform = {i: j for i, j in enumerate(df['Platform'].unique().tolist())}\n",
    "# publisher = {i: j for i, j in enumerate(df['Publisher'].unique().tolist())}"
   ]
  },
  {
   "cell_type": "code",
   "execution_count": null,
   "metadata": {},
   "outputs": [],
   "source": [
    "# import json\n",
    "\n",
    "# conf_files = path.join(getcwd(), \"config\")\n",
    "\n",
    "# with open(path.join(conf_files, \"genre.json\"), 'wt', encoding='utf-8') as f:\n",
    "#     json.dump(genre, f, indent=4)\n",
    "\n",
    "# with open(path.join(conf_files, \"platforms.json\"), 'wt', encoding='utf-8') as f:\n",
    "#     json.dump(platform, f, indent=4)\n",
    "\n",
    "# with open(path.join(conf_files, \"publishers.json\"), 'wt', encoding='utf-8') as f:\n",
    "#     json.dump(publisher, f, indent=4)"
   ]
  },
  {
   "cell_type": "code",
   "execution_count": null,
   "metadata": {},
   "outputs": [],
   "source": [
    "class DataResolver:\n",
    "\n",
    "    genre = json.loads(\n",
    "        open(\n",
    "            path.join(\n",
    "                getcwd(), \n",
    "                \"config\", \n",
    "                \"genre.json\"\n",
    "            ), \n",
    "            'rt', \n",
    "            encoding='utf-8'\n",
    "        ).read()\n",
    "    )\n",
    "    platform = json.loads(\n",
    "        open(\n",
    "            path.join(\n",
    "                getcwd(), \n",
    "                \"config\", \n",
    "                \"platforms.json\"\n",
    "            ), \n",
    "            'rt', \n",
    "            encoding='utf-8'\n",
    "        ).read()\n",
    "    )\n",
    "    publisher = json.loads(\n",
    "        open(\n",
    "            path.join(\n",
    "                getcwd(), \n",
    "                \"config\", \n",
    "                \"publishers.json\"\n",
    "            ), \n",
    "            'rt', \n",
    "            encoding='utf-8'\n",
    "        ).read()\n",
    "    )\n",
    "\n",
    "    def __init__(self):\n",
    "        # self.genre = genre\n",
    "        # self.platform = platform\n",
    "        # self.publisher = publisher\n",
    "\n",
    "        pass\n",
    "\n",
    "\n",
    "    @classmethod\n",
    "    def resolve_platform(cls, platform):\n",
    "        for key, value in cls.platform.items():\n",
    "            if value == platform:\n",
    "                return key\n",
    "\n",
    "    @classmethod\n",
    "    def resolve_genre(cls, genre):\n",
    "        for key, value in cls.genre.items():\n",
    "            if value == genre:\n",
    "                return key\n",
    "\n",
    "    @classmethod\n",
    "    def resolve_publisher(cls, publisher):\n",
    "        for key, value in cls.publisher.items():\n",
    "            if value == publisher:\n",
    "                return key\n"
   ]
  },
  {
   "cell_type": "code",
   "execution_count": null,
   "metadata": {},
   "outputs": [],
   "source": [
    "df['Platform'] = df['Platform'].apply(DataResolver.resolve_platform)\n",
    "df['Genre'] = df['Genre'].apply(DataResolver.resolve_genre)\n",
    "df['Publisher'] = df['Publisher'].apply(DataResolver.resolve_publisher)"
   ]
  },
  {
   "cell_type": "code",
   "execution_count": null,
   "metadata": {},
   "outputs": [],
   "source": [
    "# df = df.dropna()\n",
    "df_dict = df.to_dict('records')\n",
    "\n",
    "# for item in df_dict:\n",
    "#     for key in item.keys():\n",
    "#         item[key] = float(item.get(key, 0))\n",
    "\n",
    "with open(path.join(getcwd(), \"..\", \"data\", \"vgsales_ce.json\"), \"w+t\", encoding='utf-8') as dataset_json:\n",
    "    json.dump(df_dict, dataset_json, indent=4)\n",
    "\n",
    "# df.to_json(path.join(getcwd(), \"..\", \"data\", \"vgsales_ce.json\"), orient='records')\n",
    "df.head(25)"
   ]
  },
  {
   "cell_type": "code",
   "execution_count": null,
   "metadata": {},
   "outputs": [],
   "source": [
    "x = df.drop(columns=[\"NA_Sales\", \"EU_Sales\", \"JP_Sales\", \"Other_Sales\", \"Global_Sales\", \"Market_Performance\"])\n",
    "# y = df.drop(columns=[\"Platform\", \"Genre\", \"Publisher\"])\n",
    "# y[\"NA_Sales\"] = y[\"NA_Sales\"].astype(str)\n",
    "# y[\"EU_Sales\"] = y[\"EU_Sales\"].astype(str)\n",
    "# y[\"JP_Sales\"] = y[\"JP_Sales\"].astype(str)\n",
    "# y[\"Other_Sales\"] = y[\"Other_Sales\"].astype(str)\n",
    "# y[\"Global_Sales\"] = y[\"Global_Sales\"].astype(str)\n",
    "y = df[\"Market_Performance\"]\n",
    "x_train, x_test, y_train, y_test = train_test_split(x, y, test_size=0.1)"
   ]
  },
  {
   "cell_type": "code",
   "execution_count": null,
   "metadata": {},
   "outputs": [],
   "source": [
    "print(x_train.shape)\n",
    "print(x_test.shape)\n",
    "print(y_train.shape)\n",
    "print(y_test.shape)"
   ]
  },
  {
   "cell_type": "code",
   "execution_count": null,
   "metadata": {},
   "outputs": [],
   "source": [
    "\n",
    "model = DecisionTreeClassifier()\n",
    "model.fit(x_train, y_train)"
   ]
  },
  {
   "cell_type": "code",
   "execution_count": null,
   "metadata": {},
   "outputs": [],
   "source": [
    "prediction = model.predict(x_test)\n",
    "accuracy_score(y_test, prediction)\n",
    "\n",
    "# prediction"
   ]
  },
  {
   "cell_type": "code",
   "execution_count": null,
   "metadata": {},
   "outputs": [],
   "source": [
    "import joblib\n",
    "from datetime import datetime\n",
    "\n",
    "joblib.dump(model, \"vgsale_model.joblib\")\n",
    "\n"
   ]
  },
  {
   "cell_type": "code",
   "execution_count": null,
   "metadata": {},
   "outputs": [],
   "source": [
    "from sklearn import tree\n",
    "\n",
    "tree.export_graphviz(\n",
    "    model,\n",
    "    out_file=\"vgsale_tree.dot\",\n",
    "    feature_names=x.columns,\n",
    "    class_names = sorted(y.unique()),\n",
    "    label=\"all\",\n",
    "    rounded=True,\n",
    "    filled=True\n",
    ")"
   ]
  }
 ],
 "metadata": {
  "kernelspec": {
   "display_name": "Python 3.9.12 ('env': venv)",
   "language": "python",
   "name": "python3"
  },
  "language_info": {
   "codemirror_mode": {
    "name": "ipython",
    "version": 3
   },
   "file_extension": ".py",
   "mimetype": "text/x-python",
   "name": "python",
   "nbconvert_exporter": "python",
   "pygments_lexer": "ipython3",
   "version": "3.9.12"
  },
  "orig_nbformat": 4,
  "vscode": {
   "interpreter": {
    "hash": "8fd030d52ff73af5d29483fb57bbd4bab2527bbb66f9fca2352ee98c482e6834"
   }
  }
 },
 "nbformat": 4,
 "nbformat_minor": 2
}
