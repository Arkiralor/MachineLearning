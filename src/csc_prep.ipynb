{
 "cells": [
  {
   "cell_type": "code",
   "execution_count": null,
   "metadata": {},
   "outputs": [],
   "source": [
    "## Import Block\n",
    "from os import path, getcwd\n",
    "import numpy as np\n",
    "import pandas as pd\n",
    "from sklearn.tree import DecisionTreeClassifier\n",
    "from sklearn.model_selection import train_test_split\n",
    "from sklearn.metrics import accuracy_score\n",
    "from sklearn.preprocessing import OneHotEncoder\n",
    "import json"
   ]
  },
  {
   "cell_type": "code",
   "execution_count": null,
   "metadata": {},
   "outputs": [],
   "source": [
    "## Path to dataset\n",
    "dataset = path.join(getcwd(), \"..\", \"data\", \"vgsales.csv\")\n",
    "\n",
    "## Read data\n",
    "df = pd.read_csv(dataset)\n",
    "\n",
    "# df = df.drop(columns=['Rank', 'Name'], axis=1)\n",
    "df = df.dropna()\n",
    "df.head(7)"
   ]
  },
  {
   "cell_type": "code",
   "execution_count": null,
   "metadata": {},
   "outputs": [],
   "source": [
    "df.describe()"
   ]
  },
  {
   "cell_type": "code",
   "execution_count": null,
   "metadata": {},
   "outputs": [],
   "source": [
    "def create_performance(sales):\n",
    "    if sales <= 0.06:\n",
    "        return \"Extremely Poor\"\n",
    "\n",
    "    elif sales > 0.06 and sales <= 0.25:\n",
    "        return \"Poor\"\n",
    "\n",
    "    elif sales > 0.25 and sales <= 0.5:\n",
    "        return \"Average\"\n",
    "    \n",
    "    elif sales > 0.5 and sales <= 1:\n",
    "        return \"Acceptable\"\n",
    "\n",
    "    elif sales > 1 and sales <= 5:\n",
    "        return \"Good\"\n",
    "\n",
    "    elif sales > 5 and sales <= 10:\n",
    "        return \"Very Good\"\n",
    "\n",
    "    elif sales > 10 and sales <= 15:\n",
    "        return \"Excellent\"\n",
    "    \n",
    "    elif sales > 15:\n",
    "        return \"Bestseller\"\n",
    "\n",
    "    else:\n",
    "        return \"Unknown\""
   ]
  },
  {
   "cell_type": "code",
   "execution_count": null,
   "metadata": {},
   "outputs": [],
   "source": [
    "df[\"Market_Performance\"] = df[\"Global_Sales\"].apply(create_performance)\n",
    "df.head(7)\n",
    "# df.tail(16)"
   ]
  },
  {
   "cell_type": "code",
   "execution_count": null,
   "metadata": {},
   "outputs": [],
   "source": [
    "df.to_csv(path.join(getcwd(), \"..\", \"data\", \"vgsales_cleaned.csv\"))"
   ]
  }
 ],
 "metadata": {
  "kernelspec": {
   "display_name": "Python 3.9.12 ('env': venv)",
   "language": "python",
   "name": "python3"
  },
  "language_info": {
   "codemirror_mode": {
    "name": "ipython",
    "version": 3
   },
   "file_extension": ".py",
   "mimetype": "text/x-python",
   "name": "python",
   "nbconvert_exporter": "python",
   "pygments_lexer": "ipython3",
   "version": "3.9.12"
  },
  "orig_nbformat": 4,
  "vscode": {
   "interpreter": {
    "hash": "8fd030d52ff73af5d29483fb57bbd4bab2527bbb66f9fca2352ee98c482e6834"
   }
  }
 },
 "nbformat": 4,
 "nbformat_minor": 2
}
